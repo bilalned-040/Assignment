{
 "cells": [
  {
   "cell_type": "code",
   "execution_count": 19,
   "metadata": {},
   "outputs": [
    {
     "name": "stdout",
     "output_type": "stream",
     "text": [
      "Enter 1st subject marks:78\n",
      "Enter 2nd subject marks:89\n",
      "Enter 3rd subject marks:98\n",
      "Enter 4th subject marks:88\n",
      "Enter 5th subject marks:82\n",
      "your % is 87\n",
      "A grade\n"
     ]
    }
   ],
   "source": [
    "a=int(input(\"Enter 1st subject marks:\"))\n",
    "b=int(input(\"Enter 2nd subject marks:\"))\n",
    "c=int(input(\"Enter 3rd subject marks:\"))\n",
    "d=int(input(\"Enter 4th subject marks:\"))\n",
    "e=int(input(\"Enter 5th subject marks:\"))\n",
    "per=int((a+b+c+d+e)/5)\n",
    "print(\"your % is\",per)\n",
    "if (per>=80 and per<=100):\n",
    "    print(\"A grade\")\n",
    "elif (per>=70 and per<=79):\n",
    "    print(\"B grade\")\n",
    "elif (per>=60 and per<=69):\n",
    "    print(\"C grade\")\n",
    "elif (per>=50 and per<=59):\n",
    "    print(\"d grade\")\n",
    "elif (per<50):\n",
    "    print(\"Fail\")\n",
    "else:\n",
    "    print(\"invalid percentage\")"
   ]
  },
  {
   "cell_type": "code",
   "execution_count": 18,
   "metadata": {},
   "outputs": [
    {
     "name": "stdout",
     "output_type": "stream",
     "text": [
      "Enter a number: 33\n",
      "33 is odd\n"
     ]
    }
   ],
   "source": [
    "x=int(input(\"Enter a number: \"))\n",
    "if x%2==0:\n",
    "    print(\"%d is even\"%x)\n",
    "else:\n",
    "    print(\"%d is odd\"%x)"
   ]
  },
  {
   "cell_type": "code",
   "execution_count": 21,
   "metadata": {},
   "outputs": [
    {
     "name": "stdout",
     "output_type": "stream",
     "text": [
      "5\n"
     ]
    }
   ],
   "source": [
    "a=[\"ali\",\"bilal\",4,\"python\",\"adil\"]\n",
    "print(len(a))"
   ]
  },
  {
   "cell_type": "code",
   "execution_count": 23,
   "metadata": {},
   "outputs": [
    {
     "name": "stdout",
     "output_type": "stream",
     "text": [
      "32\n"
     ]
    }
   ],
   "source": [
    "list=[15,5,10,2]\n",
    "print(sum(list))"
   ]
  },
  {
   "cell_type": "code",
   "execution_count": 24,
   "metadata": {},
   "outputs": [
    {
     "name": "stdout",
     "output_type": "stream",
     "text": [
      "50\n"
     ]
    }
   ],
   "source": [
    "list1=[2,8,9,4,32,20,50]\n",
    "print(max(list1))"
   ]
  },
  {
   "cell_type": "code",
   "execution_count": 26,
   "metadata": {},
   "outputs": [
    {
     "name": "stdout",
     "output_type": "stream",
     "text": [
      "1\n",
      "1\n",
      "2\n",
      "3\n"
     ]
    }
   ],
   "source": [
    "list2=[1,1,2,3,5,8,13,21,34,55,89]\n",
    "for i in list2:\n",
    "    if i<5:\n",
    "        print(i)"
   ]
  },
  {
   "cell_type": "code",
   "execution_count": null,
   "metadata": {},
   "outputs": [],
   "source": []
  }
 ],
 "metadata": {
  "kernelspec": {
   "display_name": "Python 3",
   "language": "python",
   "name": "python3"
  },
  "language_info": {
   "codemirror_mode": {
    "name": "ipython",
    "version": 3
   },
   "file_extension": ".py",
   "mimetype": "text/x-python",
   "name": "python",
   "nbconvert_exporter": "python",
   "pygments_lexer": "ipython3",
   "version": "3.7.4"
  }
 },
 "nbformat": 4,
 "nbformat_minor": 2
}
